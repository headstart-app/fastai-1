{
 "cells": [
  {
   "cell_type": "code",
   "execution_count": 2,
   "metadata": {},
   "outputs": [],
   "source": [
    "from fastai.vision import *\n",
    "from fastai.text import *\n"
   ]
  },
  {
   "cell_type": "code",
   "execution_count": 3,
   "metadata": {},
   "outputs": [],
   "source": [
    "imdb = untar_data(URLs.IMDB_SAMPLE)"
   ]
  },
  {
   "cell_type": "code",
   "execution_count": 3,
   "metadata": {},
   "outputs": [],
   "source": [
    "data_clas = (TextList.from_csv(imdb, 'texts.csv', cols='text')\n",
    "                   .split_from_df(col='is_valid')\n",
    "                   .label_from_df(cols='label')\n",
    "                   .databunch(bs=42))"
   ]
  },
  {
   "cell_type": "code",
   "execution_count": 4,
   "metadata": {},
   "outputs": [],
   "source": [
    "from random import randint\n",
    "l1 = [randint(1, 2) for i in range(800)]\n",
    "l2 = [randint(3, 4) for i in range(800)]"
   ]
  },
  {
   "cell_type": "code",
   "execution_count": 5,
   "metadata": {},
   "outputs": [],
   "source": [
    "df = pd.DataFrame(dict(x=list(data_clas.train_ds.x),y1=l1,y2=l2))\n"
   ]
  },
  {
   "cell_type": "code",
   "execution_count": 6,
   "metadata": {
    "scrolled": true
   },
   "outputs": [],
   "source": [
    "p = TextClasDataBunch.from_df(path='./',train_df=df, valid_df=df, multi_task_list = True,label_cols=[1,2], text_cols = 0)"
   ]
  },
  {
   "cell_type": "code",
   "execution_count": 7,
   "metadata": {},
   "outputs": [],
   "source": [
    "learn = text_classifier_learner(p, AWD_LSTM, drop_mult =0.5, pretrained = False, bptt = 20)"
   ]
  },
  {
   "cell_type": "code",
   "execution_count": 8,
   "metadata": {},
   "outputs": [
    {
     "data": {
      "text/html": [
       "\n",
       "    <div>\n",
       "        <style>\n",
       "            /* Turns off some styling */\n",
       "            progress {\n",
       "                /* gets rid of default border in Firefox and Opera. */\n",
       "                border: none;\n",
       "                /* Needs to be in here for Safari polyfill so background images work as expected. */\n",
       "                background-size: auto;\n",
       "            }\n",
       "            .progress-bar-interrupted, .progress-bar-interrupted::-webkit-progress-bar {\n",
       "                background: #F44336;\n",
       "            }\n",
       "        </style>\n",
       "      <progress value='0' class='' max='3', style='width:300px; height:20px; vertical-align: middle;'></progress>\n",
       "      0.00% [0/3 00:00<00:00]\n",
       "    </div>\n",
       "    \n",
       "<table style='width:300px; margin-bottom:10px'>\n",
       "  <tr>\n",
       "    <th>epoch</th>\n",
       "    <th>train_loss</th>\n",
       "    <th>valid_loss</th>\n",
       "  </tr>\n",
       "</table>\n",
       "\n",
       "\n",
       "    <div>\n",
       "        <style>\n",
       "            /* Turns off some styling */\n",
       "            progress {\n",
       "                /* gets rid of default border in Firefox and Opera. */\n",
       "                border: none;\n",
       "                /* Needs to be in here for Safari polyfill so background images work as expected. */\n",
       "                background-size: auto;\n",
       "            }\n",
       "            .progress-bar-interrupted, .progress-bar-interrupted::-webkit-progress-bar {\n",
       "                background: #F44336;\n",
       "            }\n",
       "        </style>\n",
       "      <progress value='0' class='progress-bar-interrupted' max='13', style='width:300px; height:20px; vertical-align: middle;'></progress>\n",
       "      Interrupted\n",
       "    </div>\n",
       "    "
      ],
      "text/plain": [
       "<IPython.core.display.HTML object>"
      ]
     },
     "metadata": {},
     "output_type": "display_data"
    },
    {
     "ename": "OSError",
     "evalue": "[Errno 12] Cannot allocate memory",
     "output_type": "error",
     "traceback": [
      "\u001b[0;31m---------------------------------------------------------------------------\u001b[0m",
      "\u001b[0;31mOSError\u001b[0m                                   Traceback (most recent call last)",
      "\u001b[0;32m<ipython-input-8-d3e932fce124>\u001b[0m in \u001b[0;36m<module>\u001b[0;34m\u001b[0m\n\u001b[0;32m----> 1\u001b[0;31m \u001b[0mlearn\u001b[0m\u001b[0;34m.\u001b[0m\u001b[0mfit\u001b[0m\u001b[0;34m(\u001b[0m\u001b[0;36m3\u001b[0m\u001b[0;34m)\u001b[0m\u001b[0;34m\u001b[0m\u001b[0;34m\u001b[0m\u001b[0m\n\u001b[0m",
      "\u001b[0;32m~/github/fastai-1/fastai/basic_train.py\u001b[0m in \u001b[0;36mfit\u001b[0;34m(self, epochs, lr, wd, callbacks)\u001b[0m\n\u001b[1;32m    178\u001b[0m         \u001b[0mcallbacks\u001b[0m \u001b[0;34m=\u001b[0m \u001b[0;34m[\u001b[0m\u001b[0mcb\u001b[0m\u001b[0;34m(\u001b[0m\u001b[0mself\u001b[0m\u001b[0;34m)\u001b[0m \u001b[0;32mfor\u001b[0m \u001b[0mcb\u001b[0m \u001b[0;32min\u001b[0m \u001b[0mself\u001b[0m\u001b[0;34m.\u001b[0m\u001b[0mcallback_fns\u001b[0m\u001b[0;34m]\u001b[0m \u001b[0;34m+\u001b[0m \u001b[0mlistify\u001b[0m\u001b[0;34m(\u001b[0m\u001b[0mcallbacks\u001b[0m\u001b[0;34m)\u001b[0m\u001b[0;34m\u001b[0m\u001b[0;34m\u001b[0m\u001b[0m\n\u001b[1;32m    179\u001b[0m         fit(epochs, self.model, self.loss_func, opt=self.opt, data=self.data, metrics=self.metrics,\n\u001b[0;32m--> 180\u001b[0;31m             callbacks=self.callbacks+callbacks)\n\u001b[0m\u001b[1;32m    181\u001b[0m \u001b[0;34m\u001b[0m\u001b[0m\n\u001b[1;32m    182\u001b[0m     \u001b[0;32mdef\u001b[0m \u001b[0mcreate_opt\u001b[0m\u001b[0;34m(\u001b[0m\u001b[0mself\u001b[0m\u001b[0;34m,\u001b[0m \u001b[0mlr\u001b[0m\u001b[0;34m:\u001b[0m\u001b[0mFloats\u001b[0m\u001b[0;34m,\u001b[0m \u001b[0mwd\u001b[0m\u001b[0;34m:\u001b[0m\u001b[0mFloats\u001b[0m\u001b[0;34m=\u001b[0m\u001b[0;36m0.\u001b[0m\u001b[0;34m)\u001b[0m\u001b[0;34m->\u001b[0m\u001b[0;32mNone\u001b[0m\u001b[0;34m:\u001b[0m\u001b[0;34m\u001b[0m\u001b[0;34m\u001b[0m\u001b[0m\n",
      "\u001b[0;32m~/github/fastai-1/fastai/utils/mem.py\u001b[0m in \u001b[0;36mwrapper\u001b[0;34m(*args, **kwargs)\u001b[0m\n\u001b[1;32m     78\u001b[0m \u001b[0;34m\u001b[0m\u001b[0m\n\u001b[1;32m     79\u001b[0m         \u001b[0;32mtry\u001b[0m\u001b[0;34m:\u001b[0m\u001b[0;34m\u001b[0m\u001b[0;34m\u001b[0m\u001b[0m\n\u001b[0;32m---> 80\u001b[0;31m             \u001b[0;32mreturn\u001b[0m \u001b[0mfunc\u001b[0m\u001b[0;34m(\u001b[0m\u001b[0;34m*\u001b[0m\u001b[0margs\u001b[0m\u001b[0;34m,\u001b[0m \u001b[0;34m**\u001b[0m\u001b[0mkwargs\u001b[0m\u001b[0;34m)\u001b[0m\u001b[0;34m\u001b[0m\u001b[0;34m\u001b[0m\u001b[0m\n\u001b[0m\u001b[1;32m     81\u001b[0m         \u001b[0;32mexcept\u001b[0m \u001b[0mException\u001b[0m \u001b[0;32mas\u001b[0m \u001b[0me\u001b[0m\u001b[0;34m:\u001b[0m\u001b[0;34m\u001b[0m\u001b[0;34m\u001b[0m\u001b[0m\n\u001b[1;32m     82\u001b[0m             if (\"CUDA out of memory\" in str(e) or\n",
      "\u001b[0;32m~/github/fastai-1/fastai/basic_train.py\u001b[0m in \u001b[0;36mfit\u001b[0;34m(epochs, model, loss_func, opt, data, callbacks, metrics)\u001b[0m\n\u001b[1;32m     95\u001b[0m             \u001b[0;32mif\u001b[0m \u001b[0;32mnot\u001b[0m \u001b[0mdata\u001b[0m\u001b[0;34m.\u001b[0m\u001b[0mempty_val\u001b[0m\u001b[0;34m:\u001b[0m\u001b[0;34m\u001b[0m\u001b[0;34m\u001b[0m\u001b[0m\n\u001b[1;32m     96\u001b[0m                 val_loss = validate(model, data.valid_dl, loss_func=loss_func,\n\u001b[0;32m---> 97\u001b[0;31m                                        cb_handler=cb_handler, pbar=pbar)\n\u001b[0m\u001b[1;32m     98\u001b[0m             \u001b[0;32melse\u001b[0m\u001b[0;34m:\u001b[0m \u001b[0mval_loss\u001b[0m\u001b[0;34m=\u001b[0m\u001b[0;32mNone\u001b[0m\u001b[0;34m\u001b[0m\u001b[0;34m\u001b[0m\u001b[0m\n\u001b[1;32m     99\u001b[0m             \u001b[0;32mif\u001b[0m \u001b[0mcb_handler\u001b[0m\u001b[0;34m.\u001b[0m\u001b[0mon_epoch_end\u001b[0m\u001b[0;34m(\u001b[0m\u001b[0mval_loss\u001b[0m\u001b[0;34m)\u001b[0m\u001b[0;34m:\u001b[0m \u001b[0;32mbreak\u001b[0m\u001b[0;34m\u001b[0m\u001b[0;34m\u001b[0m\u001b[0m\n",
      "\u001b[0;32m~/github/fastai-1/fastai/basic_train.py\u001b[0m in \u001b[0;36mvalidate\u001b[0;34m(model, dl, loss_func, cb_handler, pbar, average, n_batch)\u001b[0m\n\u001b[1;32m     52\u001b[0m         \u001b[0mval_losses\u001b[0m\u001b[0;34m,\u001b[0m\u001b[0mnums\u001b[0m \u001b[0;34m=\u001b[0m \u001b[0;34m[\u001b[0m\u001b[0;34m]\u001b[0m\u001b[0;34m,\u001b[0m\u001b[0;34m[\u001b[0m\u001b[0;34m]\u001b[0m\u001b[0;34m\u001b[0m\u001b[0;34m\u001b[0m\u001b[0m\n\u001b[1;32m     53\u001b[0m         \u001b[0;32mif\u001b[0m \u001b[0mcb_handler\u001b[0m\u001b[0;34m:\u001b[0m \u001b[0mcb_handler\u001b[0m\u001b[0;34m.\u001b[0m\u001b[0mset_dl\u001b[0m\u001b[0;34m(\u001b[0m\u001b[0mdl\u001b[0m\u001b[0;34m)\u001b[0m\u001b[0;34m\u001b[0m\u001b[0;34m\u001b[0m\u001b[0m\n\u001b[0;32m---> 54\u001b[0;31m         \u001b[0;32mfor\u001b[0m \u001b[0mxb\u001b[0m\u001b[0;34m,\u001b[0m\u001b[0myb\u001b[0m \u001b[0;32min\u001b[0m \u001b[0mprogress_bar\u001b[0m\u001b[0;34m(\u001b[0m\u001b[0mdl\u001b[0m\u001b[0;34m,\u001b[0m \u001b[0mparent\u001b[0m\u001b[0;34m=\u001b[0m\u001b[0mpbar\u001b[0m\u001b[0;34m,\u001b[0m \u001b[0mleave\u001b[0m\u001b[0;34m=\u001b[0m\u001b[0;34m(\u001b[0m\u001b[0mpbar\u001b[0m \u001b[0;32mis\u001b[0m \u001b[0;32mnot\u001b[0m \u001b[0;32mNone\u001b[0m\u001b[0;34m)\u001b[0m\u001b[0;34m)\u001b[0m\u001b[0;34m:\u001b[0m\u001b[0;34m\u001b[0m\u001b[0;34m\u001b[0m\u001b[0m\n\u001b[0m\u001b[1;32m     55\u001b[0m             \u001b[0;32mif\u001b[0m \u001b[0mcb_handler\u001b[0m\u001b[0;34m:\u001b[0m \u001b[0mxb\u001b[0m\u001b[0;34m,\u001b[0m \u001b[0myb\u001b[0m \u001b[0;34m=\u001b[0m \u001b[0mcb_handler\u001b[0m\u001b[0;34m.\u001b[0m\u001b[0mon_batch_begin\u001b[0m\u001b[0;34m(\u001b[0m\u001b[0mxb\u001b[0m\u001b[0;34m,\u001b[0m \u001b[0myb\u001b[0m\u001b[0;34m,\u001b[0m \u001b[0mtrain\u001b[0m\u001b[0;34m=\u001b[0m\u001b[0;32mFalse\u001b[0m\u001b[0;34m)\u001b[0m\u001b[0;34m\u001b[0m\u001b[0;34m\u001b[0m\u001b[0m\n\u001b[1;32m     56\u001b[0m             \u001b[0mval_losses\u001b[0m\u001b[0;34m.\u001b[0m\u001b[0mappend\u001b[0m\u001b[0;34m(\u001b[0m\u001b[0mloss_batch\u001b[0m\u001b[0;34m(\u001b[0m\u001b[0mmodel\u001b[0m\u001b[0;34m,\u001b[0m \u001b[0mxb\u001b[0m\u001b[0;34m,\u001b[0m \u001b[0myb\u001b[0m\u001b[0;34m,\u001b[0m \u001b[0mloss_func\u001b[0m\u001b[0;34m,\u001b[0m \u001b[0mcb_handler\u001b[0m\u001b[0;34m=\u001b[0m\u001b[0mcb_handler\u001b[0m\u001b[0;34m)\u001b[0m\u001b[0;34m)\u001b[0m\u001b[0;34m\u001b[0m\u001b[0;34m\u001b[0m\u001b[0m\n",
      "\u001b[0;32m~/anaconda3/envs/fastai/lib/python3.7/site-packages/fastprogress/fastprogress.py\u001b[0m in \u001b[0;36m__iter__\u001b[0;34m(self)\u001b[0m\n\u001b[1;32m     64\u001b[0m         \u001b[0mself\u001b[0m\u001b[0;34m.\u001b[0m\u001b[0mupdate\u001b[0m\u001b[0;34m(\u001b[0m\u001b[0;36m0\u001b[0m\u001b[0;34m)\u001b[0m\u001b[0;34m\u001b[0m\u001b[0;34m\u001b[0m\u001b[0m\n\u001b[1;32m     65\u001b[0m         \u001b[0;32mtry\u001b[0m\u001b[0;34m:\u001b[0m\u001b[0;34m\u001b[0m\u001b[0;34m\u001b[0m\u001b[0m\n\u001b[0;32m---> 66\u001b[0;31m             \u001b[0;32mfor\u001b[0m \u001b[0mi\u001b[0m\u001b[0;34m,\u001b[0m\u001b[0mo\u001b[0m \u001b[0;32min\u001b[0m \u001b[0menumerate\u001b[0m\u001b[0;34m(\u001b[0m\u001b[0mself\u001b[0m\u001b[0;34m.\u001b[0m\u001b[0m_gen\u001b[0m\u001b[0;34m)\u001b[0m\u001b[0;34m:\u001b[0m\u001b[0;34m\u001b[0m\u001b[0;34m\u001b[0m\u001b[0m\n\u001b[0m\u001b[1;32m     67\u001b[0m                 \u001b[0;32myield\u001b[0m \u001b[0mo\u001b[0m\u001b[0;34m\u001b[0m\u001b[0;34m\u001b[0m\u001b[0m\n\u001b[1;32m     68\u001b[0m                 \u001b[0;32mif\u001b[0m \u001b[0mself\u001b[0m\u001b[0;34m.\u001b[0m\u001b[0mauto_update\u001b[0m\u001b[0;34m:\u001b[0m \u001b[0mself\u001b[0m\u001b[0;34m.\u001b[0m\u001b[0mupdate\u001b[0m\u001b[0;34m(\u001b[0m\u001b[0mi\u001b[0m\u001b[0;34m+\u001b[0m\u001b[0;36m1\u001b[0m\u001b[0;34m)\u001b[0m\u001b[0;34m\u001b[0m\u001b[0;34m\u001b[0m\u001b[0m\n",
      "\u001b[0;32m~/github/fastai-1/fastai/basic_data.py\u001b[0m in \u001b[0;36m__iter__\u001b[0;34m(self)\u001b[0m\n\u001b[1;32m     73\u001b[0m     \u001b[0;32mdef\u001b[0m \u001b[0m__iter__\u001b[0m\u001b[0;34m(\u001b[0m\u001b[0mself\u001b[0m\u001b[0;34m)\u001b[0m\u001b[0;34m:\u001b[0m\u001b[0;34m\u001b[0m\u001b[0;34m\u001b[0m\u001b[0m\n\u001b[1;32m     74\u001b[0m         \u001b[0;34m\"Process and returns items from `DataLoader`.\"\u001b[0m\u001b[0;34m\u001b[0m\u001b[0;34m\u001b[0m\u001b[0m\n\u001b[0;32m---> 75\u001b[0;31m         \u001b[0;32mfor\u001b[0m \u001b[0mb\u001b[0m \u001b[0;32min\u001b[0m \u001b[0mself\u001b[0m\u001b[0;34m.\u001b[0m\u001b[0mdl\u001b[0m\u001b[0;34m:\u001b[0m \u001b[0;32myield\u001b[0m \u001b[0mself\u001b[0m\u001b[0;34m.\u001b[0m\u001b[0mproc_batch\u001b[0m\u001b[0;34m(\u001b[0m\u001b[0mb\u001b[0m\u001b[0;34m)\u001b[0m\u001b[0;34m\u001b[0m\u001b[0;34m\u001b[0m\u001b[0m\n\u001b[0m\u001b[1;32m     76\u001b[0m \u001b[0;34m\u001b[0m\u001b[0m\n\u001b[1;32m     77\u001b[0m     \u001b[0;34m@\u001b[0m\u001b[0mclassmethod\u001b[0m\u001b[0;34m\u001b[0m\u001b[0;34m\u001b[0m\u001b[0m\n",
      "\u001b[0;32m~/anaconda3/envs/fastai/lib/python3.7/site-packages/torch/utils/data/dataloader.py\u001b[0m in \u001b[0;36m__iter__\u001b[0;34m(self)\u001b[0m\n\u001b[1;32m    817\u001b[0m \u001b[0;34m\u001b[0m\u001b[0m\n\u001b[1;32m    818\u001b[0m     \u001b[0;32mdef\u001b[0m \u001b[0m__iter__\u001b[0m\u001b[0;34m(\u001b[0m\u001b[0mself\u001b[0m\u001b[0;34m)\u001b[0m\u001b[0;34m:\u001b[0m\u001b[0;34m\u001b[0m\u001b[0;34m\u001b[0m\u001b[0m\n\u001b[0;32m--> 819\u001b[0;31m         \u001b[0;32mreturn\u001b[0m \u001b[0m_DataLoaderIter\u001b[0m\u001b[0;34m(\u001b[0m\u001b[0mself\u001b[0m\u001b[0;34m)\u001b[0m\u001b[0;34m\u001b[0m\u001b[0;34m\u001b[0m\u001b[0m\n\u001b[0m\u001b[1;32m    820\u001b[0m \u001b[0;34m\u001b[0m\u001b[0m\n\u001b[1;32m    821\u001b[0m     \u001b[0;32mdef\u001b[0m \u001b[0m__len__\u001b[0m\u001b[0;34m(\u001b[0m\u001b[0mself\u001b[0m\u001b[0;34m)\u001b[0m\u001b[0;34m:\u001b[0m\u001b[0;34m\u001b[0m\u001b[0;34m\u001b[0m\u001b[0m\n",
      "\u001b[0;32m~/anaconda3/envs/fastai/lib/python3.7/site-packages/torch/utils/data/dataloader.py\u001b[0m in \u001b[0;36m__init__\u001b[0;34m(self, loader)\u001b[0m\n\u001b[1;32m    558\u001b[0m                 \u001b[0;31m#     before it starts, and __del__ tries to join but will get:\u001b[0m\u001b[0;34m\u001b[0m\u001b[0;34m\u001b[0m\u001b[0;34m\u001b[0m\u001b[0m\n\u001b[1;32m    559\u001b[0m                 \u001b[0;31m#     AssertionError: can only join a started process.\u001b[0m\u001b[0;34m\u001b[0m\u001b[0;34m\u001b[0m\u001b[0;34m\u001b[0m\u001b[0m\n\u001b[0;32m--> 560\u001b[0;31m                 \u001b[0mw\u001b[0m\u001b[0;34m.\u001b[0m\u001b[0mstart\u001b[0m\u001b[0;34m(\u001b[0m\u001b[0;34m)\u001b[0m\u001b[0;34m\u001b[0m\u001b[0;34m\u001b[0m\u001b[0m\n\u001b[0m\u001b[1;32m    561\u001b[0m                 \u001b[0mself\u001b[0m\u001b[0;34m.\u001b[0m\u001b[0mindex_queues\u001b[0m\u001b[0;34m.\u001b[0m\u001b[0mappend\u001b[0m\u001b[0;34m(\u001b[0m\u001b[0mindex_queue\u001b[0m\u001b[0;34m)\u001b[0m\u001b[0;34m\u001b[0m\u001b[0;34m\u001b[0m\u001b[0m\n\u001b[1;32m    562\u001b[0m                 \u001b[0mself\u001b[0m\u001b[0;34m.\u001b[0m\u001b[0mworkers\u001b[0m\u001b[0;34m.\u001b[0m\u001b[0mappend\u001b[0m\u001b[0;34m(\u001b[0m\u001b[0mw\u001b[0m\u001b[0;34m)\u001b[0m\u001b[0;34m\u001b[0m\u001b[0;34m\u001b[0m\u001b[0m\n",
      "\u001b[0;32m~/anaconda3/envs/fastai/lib/python3.7/multiprocessing/process.py\u001b[0m in \u001b[0;36mstart\u001b[0;34m(self)\u001b[0m\n\u001b[1;32m    110\u001b[0m                \u001b[0;34m'daemonic processes are not allowed to have children'\u001b[0m\u001b[0;34m\u001b[0m\u001b[0;34m\u001b[0m\u001b[0m\n\u001b[1;32m    111\u001b[0m         \u001b[0m_cleanup\u001b[0m\u001b[0;34m(\u001b[0m\u001b[0;34m)\u001b[0m\u001b[0;34m\u001b[0m\u001b[0;34m\u001b[0m\u001b[0m\n\u001b[0;32m--> 112\u001b[0;31m         \u001b[0mself\u001b[0m\u001b[0;34m.\u001b[0m\u001b[0m_popen\u001b[0m \u001b[0;34m=\u001b[0m \u001b[0mself\u001b[0m\u001b[0;34m.\u001b[0m\u001b[0m_Popen\u001b[0m\u001b[0;34m(\u001b[0m\u001b[0mself\u001b[0m\u001b[0;34m)\u001b[0m\u001b[0;34m\u001b[0m\u001b[0;34m\u001b[0m\u001b[0m\n\u001b[0m\u001b[1;32m    113\u001b[0m         \u001b[0mself\u001b[0m\u001b[0;34m.\u001b[0m\u001b[0m_sentinel\u001b[0m \u001b[0;34m=\u001b[0m \u001b[0mself\u001b[0m\u001b[0;34m.\u001b[0m\u001b[0m_popen\u001b[0m\u001b[0;34m.\u001b[0m\u001b[0msentinel\u001b[0m\u001b[0;34m\u001b[0m\u001b[0;34m\u001b[0m\u001b[0m\n\u001b[1;32m    114\u001b[0m         \u001b[0;31m# Avoid a refcycle if the target function holds an indirect\u001b[0m\u001b[0;34m\u001b[0m\u001b[0;34m\u001b[0m\u001b[0;34m\u001b[0m\u001b[0m\n",
      "\u001b[0;32m~/anaconda3/envs/fastai/lib/python3.7/multiprocessing/context.py\u001b[0m in \u001b[0;36m_Popen\u001b[0;34m(process_obj)\u001b[0m\n\u001b[1;32m    221\u001b[0m     \u001b[0;34m@\u001b[0m\u001b[0mstaticmethod\u001b[0m\u001b[0;34m\u001b[0m\u001b[0;34m\u001b[0m\u001b[0m\n\u001b[1;32m    222\u001b[0m     \u001b[0;32mdef\u001b[0m \u001b[0m_Popen\u001b[0m\u001b[0;34m(\u001b[0m\u001b[0mprocess_obj\u001b[0m\u001b[0;34m)\u001b[0m\u001b[0;34m:\u001b[0m\u001b[0;34m\u001b[0m\u001b[0;34m\u001b[0m\u001b[0m\n\u001b[0;32m--> 223\u001b[0;31m         \u001b[0;32mreturn\u001b[0m \u001b[0m_default_context\u001b[0m\u001b[0;34m.\u001b[0m\u001b[0mget_context\u001b[0m\u001b[0;34m(\u001b[0m\u001b[0;34m)\u001b[0m\u001b[0;34m.\u001b[0m\u001b[0mProcess\u001b[0m\u001b[0;34m.\u001b[0m\u001b[0m_Popen\u001b[0m\u001b[0;34m(\u001b[0m\u001b[0mprocess_obj\u001b[0m\u001b[0;34m)\u001b[0m\u001b[0;34m\u001b[0m\u001b[0;34m\u001b[0m\u001b[0m\n\u001b[0m\u001b[1;32m    224\u001b[0m \u001b[0;34m\u001b[0m\u001b[0m\n\u001b[1;32m    225\u001b[0m \u001b[0;32mclass\u001b[0m \u001b[0mDefaultContext\u001b[0m\u001b[0;34m(\u001b[0m\u001b[0mBaseContext\u001b[0m\u001b[0;34m)\u001b[0m\u001b[0;34m:\u001b[0m\u001b[0;34m\u001b[0m\u001b[0;34m\u001b[0m\u001b[0m\n",
      "\u001b[0;32m~/anaconda3/envs/fastai/lib/python3.7/multiprocessing/context.py\u001b[0m in \u001b[0;36m_Popen\u001b[0;34m(process_obj)\u001b[0m\n\u001b[1;32m    275\u001b[0m         \u001b[0;32mdef\u001b[0m \u001b[0m_Popen\u001b[0m\u001b[0;34m(\u001b[0m\u001b[0mprocess_obj\u001b[0m\u001b[0;34m)\u001b[0m\u001b[0;34m:\u001b[0m\u001b[0;34m\u001b[0m\u001b[0;34m\u001b[0m\u001b[0m\n\u001b[1;32m    276\u001b[0m             \u001b[0;32mfrom\u001b[0m \u001b[0;34m.\u001b[0m\u001b[0mpopen_fork\u001b[0m \u001b[0;32mimport\u001b[0m \u001b[0mPopen\u001b[0m\u001b[0;34m\u001b[0m\u001b[0;34m\u001b[0m\u001b[0m\n\u001b[0;32m--> 277\u001b[0;31m             \u001b[0;32mreturn\u001b[0m \u001b[0mPopen\u001b[0m\u001b[0;34m(\u001b[0m\u001b[0mprocess_obj\u001b[0m\u001b[0;34m)\u001b[0m\u001b[0;34m\u001b[0m\u001b[0;34m\u001b[0m\u001b[0m\n\u001b[0m\u001b[1;32m    278\u001b[0m \u001b[0;34m\u001b[0m\u001b[0m\n\u001b[1;32m    279\u001b[0m     \u001b[0;32mclass\u001b[0m \u001b[0mSpawnProcess\u001b[0m\u001b[0;34m(\u001b[0m\u001b[0mprocess\u001b[0m\u001b[0;34m.\u001b[0m\u001b[0mBaseProcess\u001b[0m\u001b[0;34m)\u001b[0m\u001b[0;34m:\u001b[0m\u001b[0;34m\u001b[0m\u001b[0;34m\u001b[0m\u001b[0m\n",
      "\u001b[0;32m~/anaconda3/envs/fastai/lib/python3.7/multiprocessing/popen_fork.py\u001b[0m in \u001b[0;36m__init__\u001b[0;34m(self, process_obj)\u001b[0m\n\u001b[1;32m     18\u001b[0m         \u001b[0mself\u001b[0m\u001b[0;34m.\u001b[0m\u001b[0mreturncode\u001b[0m \u001b[0;34m=\u001b[0m \u001b[0;32mNone\u001b[0m\u001b[0;34m\u001b[0m\u001b[0;34m\u001b[0m\u001b[0m\n\u001b[1;32m     19\u001b[0m         \u001b[0mself\u001b[0m\u001b[0;34m.\u001b[0m\u001b[0mfinalizer\u001b[0m \u001b[0;34m=\u001b[0m \u001b[0;32mNone\u001b[0m\u001b[0;34m\u001b[0m\u001b[0;34m\u001b[0m\u001b[0m\n\u001b[0;32m---> 20\u001b[0;31m         \u001b[0mself\u001b[0m\u001b[0;34m.\u001b[0m\u001b[0m_launch\u001b[0m\u001b[0;34m(\u001b[0m\u001b[0mprocess_obj\u001b[0m\u001b[0;34m)\u001b[0m\u001b[0;34m\u001b[0m\u001b[0;34m\u001b[0m\u001b[0m\n\u001b[0m\u001b[1;32m     21\u001b[0m \u001b[0;34m\u001b[0m\u001b[0m\n\u001b[1;32m     22\u001b[0m     \u001b[0;32mdef\u001b[0m \u001b[0mduplicate_for_child\u001b[0m\u001b[0;34m(\u001b[0m\u001b[0mself\u001b[0m\u001b[0;34m,\u001b[0m \u001b[0mfd\u001b[0m\u001b[0;34m)\u001b[0m\u001b[0;34m:\u001b[0m\u001b[0;34m\u001b[0m\u001b[0;34m\u001b[0m\u001b[0m\n",
      "\u001b[0;32m~/anaconda3/envs/fastai/lib/python3.7/multiprocessing/popen_fork.py\u001b[0m in \u001b[0;36m_launch\u001b[0;34m(self, process_obj)\u001b[0m\n\u001b[1;32m     68\u001b[0m         \u001b[0mcode\u001b[0m \u001b[0;34m=\u001b[0m \u001b[0;36m1\u001b[0m\u001b[0;34m\u001b[0m\u001b[0;34m\u001b[0m\u001b[0m\n\u001b[1;32m     69\u001b[0m         \u001b[0mparent_r\u001b[0m\u001b[0;34m,\u001b[0m \u001b[0mchild_w\u001b[0m \u001b[0;34m=\u001b[0m \u001b[0mos\u001b[0m\u001b[0;34m.\u001b[0m\u001b[0mpipe\u001b[0m\u001b[0;34m(\u001b[0m\u001b[0;34m)\u001b[0m\u001b[0;34m\u001b[0m\u001b[0;34m\u001b[0m\u001b[0m\n\u001b[0;32m---> 70\u001b[0;31m         \u001b[0mself\u001b[0m\u001b[0;34m.\u001b[0m\u001b[0mpid\u001b[0m \u001b[0;34m=\u001b[0m \u001b[0mos\u001b[0m\u001b[0;34m.\u001b[0m\u001b[0mfork\u001b[0m\u001b[0;34m(\u001b[0m\u001b[0;34m)\u001b[0m\u001b[0;34m\u001b[0m\u001b[0;34m\u001b[0m\u001b[0m\n\u001b[0m\u001b[1;32m     71\u001b[0m         \u001b[0;32mif\u001b[0m \u001b[0mself\u001b[0m\u001b[0;34m.\u001b[0m\u001b[0mpid\u001b[0m \u001b[0;34m==\u001b[0m \u001b[0;36m0\u001b[0m\u001b[0;34m:\u001b[0m\u001b[0;34m\u001b[0m\u001b[0;34m\u001b[0m\u001b[0m\n\u001b[1;32m     72\u001b[0m             \u001b[0;32mtry\u001b[0m\u001b[0;34m:\u001b[0m\u001b[0;34m\u001b[0m\u001b[0;34m\u001b[0m\u001b[0m\n",
      "\u001b[0;31mOSError\u001b[0m: [Errno 12] Cannot allocate memory"
     ]
    }
   ],
   "source": [
    "learn.fit(3)"
   ]
  },
  {
   "cell_type": "code",
   "execution_count": 14,
   "metadata": {},
   "outputs": [
    {
     "name": "stdout",
     "output_type": "stream",
     "text": [
      "this Learner object self-destroyed - it still exists, but no longer usable\n"
     ]
    }
   ],
   "source": [
    "learn.destroy()"
   ]
  },
  {
   "cell_type": "code",
   "execution_count": 4,
   "metadata": {},
   "outputs": [],
   "source": [
    "path = untar_data(URLs.IMDB_SAMPLE)\n",
    "data = TextClasDataBunch.from_csv(path, 'texts.csv')\n"
   ]
  },
  {
   "cell_type": "code",
   "execution_count": 7,
   "metadata": {},
   "outputs": [
    {
     "data": {
      "text/plain": [
       "TextClasDataBunch;\n",
       "\n",
       "Train: LabelList (799 items)\n",
       "x: TextList\n",
       "xxbos xxmaj having enjoyed xxmaj jean xxmaj arthur in \" xxmaj the xxmaj devil and xxmaj miss xxmaj jones \" , my interest was peaked , so i tried sitting through this second - string screwball outing about an investigation into the death of a xxunk -- but i did n't make it to the end . xxmaj arthur , photographed in a xxunk , movie - magazine fashion , either wants xxunk from ex - husband xxmaj william xxmaj powell or another shot at marriage , but i never felt for her because the character is just a string of xxunk ( she 's the type of heroine prone to comical xxunk , but once inside a morgue -- like all women in these ' 30 's comedies -- she xxunk ) . xxmaj william xxmaj powell xxunk had a high time working with xxmaj miss xxmaj arthur , but you 'd never know it from the end result ; they look awkward standing next to each other , xxunk over their xxunk . xxmaj the actor playing xxmaj powell 's xxunk is excruciating , and the xxunk for viewer laughs are pregnant with xxunk .,xxbos xxmaj there 's no denying the first xxmaj azumi film was a commercial product ; it was an adaptation of a popular manga and had cast of young , attractive actors and certainly was n't lacking in the budget department . xxmaj yet it more than entertained for what it was , and i ca n't deny i enjoyed it immensely . \n",
       " \n",
       "  \" xxmaj azumi 2 \" lacks just about everything that made the original so wonderful . xxmaj the first thing that should set alarm xxunk xxunk is the absence of the superb xxmaj ryuhei xxmaj kitamura at the helm . xxmaj with him , he seemed to take not only his own visual flair and xxunk , but the xxunk style , beauty and most importantly , its heart . xxmaj while the first had a simple \" xxunk \" plot , this one has a xxunk mess of a story , with too many dull characters stabbing each other in the back so many times the potential for any sympathy or pathos is xxunk . xxmaj gone is the effective interplay between the lead characters ; xxmaj azumi and her cohorts are often reduced to a bunch of xxunk teenagers xxunk in a forest . xxmaj xxunk is non existent ; if anyone watching actually cares who lives and who dies , i 'll be shocked . xxmaj the same xxunk to the villains here . xxmaj the final battle - in fact all the battles - are completely devoid of any sort of tension . xxmaj the fact that they are poorly choreographed and xxunk directed - not to mention few and far between - is made a xxunk by their own sheer xxunk . xxmaj the villains themselves try far too hard to be campy , and even if they were all combined , they do n't come within a country mile of the xxmaj xxunk xxmaj xxunk antics of xxmaj xxunk xxmaj xxunk in the original . \n",
       " \n",
       "  xxrep 4 # xxmaj major xxmaj spoiler at end of xxunk ! xxrep 5 # \n",
       " \n",
       "  xxmaj aya xxmaj ueto tries her best it has to be said , and she also managed to keep her hair in good condition between the films . xxmaj azumi is now a fully fledged assassin , meaning she can wave her sword around in slow motion ; unfortunately , now the character is xxunk with a sort of xxmaj man xxmaj with xxmaj no xxmaj name style xxunk , xxmaj ueto 's model looks become even more inappropriate . i know this is supposed to be the point , but this combined with the xxunk of everyone else in the film , the stupidity of the plot and the general xxunk of the film in general means it is downright impossible to get behind her character this time around . xxmaj the less said about xxmaj chiaki \" xxmaj remember me from xxmaj kill xxmaj bill \" xxmaj kuriyama 's performance the better ; it xxunk to say her \" turn \" from good to evil is about as subtle as xxunk . \n",
       " \n",
       "  xxmaj overall , this was just a xxunk disappointment . xxmaj any merits is does have were done ten times better in the first film . a xxunk , unsatisfying - and generally downright boring - mess .,xxbos xxmaj some of these viewer comments are just ridiculous . xxmaj not painful to watch with your significant other ? i was apologizing to my boyfriend the entire movie . \n",
       " \n",
       "  xxmaj it was so slow and awfully strange . \n",
       " \n",
       "  xxmaj both xxmaj xxunk , xxmaj vanessa and xxmaj natasha were xxunk for this , especially with xxmaj vanessa doing that ridiculous brash xxmaj american accent . \n",
       " \n",
       "  xxmaj claire xxmaj danes was the same xxunk - xxunk awkward girl that she was in xxmaj my xxmaj so - xxmaj called xxmaj life . xxmaj she has yet to push herself in any way . xxmaj girl , find a new way to pretend to cry ! \n",
       " \n",
       "  xxmaj meryl xxmaj streep was one of the only redeeming part of this movie , she was on screen for five minutes , and i swear to xxmaj god , she xxunk out of the movie screen and slapped me awake . \n",
       " \n",
       "  xxmaj oh ! xxmaj and xxmaj hugh xxmaj dancy , who gets better every time i see him . \n",
       " \n",
       "  xxmaj glenn xxmaj close and xxmaj eileen xxmaj atkins were also great in their two and a half scenes . \n",
       " \n",
       "  i mean , this was a well - shot movie , it was very pretty , the settings were interestingly dressed , providing relief for the intense boredom i was feeling . \n",
       " \n",
       "  i do n't know , xxmaj it 's just pretty pathetic when a movie that xxunk a cast comprised of \" xxmaj the greatest actresses of our time \" sucks so much . xxmaj it sure had more than a few noticeable editing errors , and the main character ( xxmaj ann ) was a huge jerk . i was glad she died . xxmaj but that 's because i felt bad for xxmaj xxunk , xxmaj ann 's friend -- mostly because these two ladies were better actors and made me feel a little empathy . \n",
       " \n",
       "  xxmaj ugh . xxup bad job , xxmaj evening the film . xxmaj you were n't entertaining and you were n't even thought - provoking . i sure hope the book was better , so it did n't waste even more of people 's time . 3 / 10,xxbos xxmaj most italian horror lovers seem to hate this movie since because it has no connection to the first two xxmaj demons films . xxmaj and with the \" xxmaj demons xxup iii \" in the title , one would assume it would . xxmaj the problem is that this film was never intended to be part of the xxmaj demons series . xxmaj the distributors only a \" xxmaj demons xxup iii \" above its original title \" xxmaj the xxmaj ogre \" to cash in on the other films popularity . xxmaj the new xxmaj american xxup dvd release of this picture has the title \" xxmaj demons xxup iii : xxmaj the xxmaj ogre \" on the box art but the film itself only says \" xxmaj the xxmaj ogre \" . i do n't know if past releases had the title \" xxmaj demons xxup iii \" on the actual film itself , but this new release just seems to be a little white lie . xxmaj if you can get past the \" xxmaj demons xxup iii \" in the title , you might some enjoyment in \" xxmaj the xxmaj ogre \" . xxmaj it starts out with a creep intro , and stays pretty creep throughout . xxmaj there 's no gore and the film movies slowly , but i still xxunk it . xxmaj just do n't expect it to be like the other xxmaj demons films . i give \" xxmaj the xxmaj ogre \" 7 out of 10 . xxmaj italian fans should try it out .,xxbos ' xxmaj stanley and xxmaj iris ' show the triumph of the human spirit . xxmaj for xxmaj stanley , it 's the struggle to become literate and realize his potential . xxmaj for xxmaj iris , it 's to find the courage to love again after becoming a widow . xxmaj the beauty of the movie is the dance that xxmaj robert deniro and xxmaj jane xxmaj fonda do together , starting and stopping , before each has the skills and courage to completely trust each other and move on . xxmaj in that sense it very nicely gives us a good view of how life often is , thus being credible . xxmaj unlike some other reviewers i found the characters each rendered to be consistent for the whole picture . xxmaj the supporting cast is also carefully chosen and they add a depth of character that the main characters get added meaning from the supporting performances . xxmaj all in all an excellent movie . xxmaj the best thing i take from it is xxmaj hope .\n",
       "y: CategoryList\n",
       "negative,negative,negative,positive,positive\n",
       "Path: /home/sergii/.fastai/data/imdb_sample;\n",
       "\n",
       "Valid: LabelList (201 items)\n",
       "x: TextList\n",
       "xxbos i do n't know why i 'm commenting this stupid reality - show i happened to watch a few episodes xxunk cable xxunk broadcast when they aired 5 episodes in a row or something , i did n't watch the entire thing though . xxmaj only like three xxunk i was nine months pregnant and about to go into labor any day . xxmaj maybe i 'm just bored xxunk ) \n",
       " \n",
       "  i feel sorry for xxmaj xxunk , i really do . xxmaj for all her money and fame she seem to have very little sense of xxunk . xxmaj or she 's self - centered to the extreme . xxmaj she married the xxunk xxmaj xxunk anybody can make a mistake ) and before that she \" starred \" this horrible show about her everyday life with him , where she xxunk a xxunk xxunk she feels like it , no matter if it is in someone 's face or into the shower as xxmaj xxunk is standing in there . xxmaj she 's xxunk about her sex - life without leaving anything to your imagination , i do n't care for my part , but i ca n't help wondering how she feels about it now when she 's divorced . xxmaj and yes , for her sake i 'm embarrassed . xxmaj but i should n't be . xxmaj she seem to live a pretty empty , shallow life though . i do n't want to xxunk lives with her even if i could . xxmaj road - kill xxup tv if you like .,xxbos i 've just finished listening to the director 's commentary for this film , and i think the one big thing i got from it that i agree with is that this film , like xxmaj xxunk 's xxmaj the xxmaj xxunk , is completely xxunk . xxmaj it 's from xxmaj howard 's xxup xxunk . xxmaj so , any review or attempt at contemplating a set of comments about it , as xxmaj ebert did , is really about xxmaj nolte 's character actually . xxmaj if you feel , as he did , that the film \" does not work \" , then you 're saying , i think , that xxmaj howard does not work . xxmaj and , to be frank , you might be right . xxmaj howard 's xxunk and personality really would n't stand up to professional mental xxunk and analysis . \n",
       " \n",
       "  xxmaj but , hey , that 's the nature of people . \n",
       " \n",
       "  xxmaj andrew .,xxbos i watched xxmaj xxunk the other night and am compelled to put together a xxmaj public xxmaj service xxmaj xxunk . \n",
       " \n",
       "  xxmaj xxunk is another version of xxmaj xxunk , the thousand - year - old xxmaj xxunk - xxmaj saxon epic poem . xxmaj the scifi channel has a growing catalog of xxunk and uninteresting movies , and the xxunk promised an xxunk low - budget mini - epic , but this one xxunk to let me xxunk xxunk . xxmaj it was xxunk , xxunk , bad . i watched in xxunk and horror at the train wreck you could n't tear your eyes away from . i xxunk for a xxunk and managed to capture part of what i was seeing . xxmaj the following may contain spoilers or might just save your xxunk . xxmaj you 've been warned . \n",
       " \n",
       "  - xxmaj just to get it over with , xxmaj xxunk 's warriors wore xxunk xxunk . xxmaj xxunk issue compared to what came after . xxmaj it also appears that the xxunk were in a bin and handed to xxunk actor xxunk by next . xxmaj fit , appearance and function were apparently irrelevant . \n",
       " \n",
       "  - xxmaj xxunk xxmaj xxunk had obviously been xxunk into doing the movie by the xxmaj xxunk xxmaj brothers , xxmaj xxunk and xxmaj bailey circus . xxmaj she managed to avoid a red rubber nose , but the xxunk had already done the rest of her makeup . \n",
       " \n",
       "  - xxmaj ben xxmaj cross xxunk not to be embarrassed as the king . xxmaj his character , xxmaj xxunk , must have become king of the xxmaj danes only minutes before the film opened and had n't had a chance to get the crown xxunk to fit him yet . \n",
       " \n",
       "  - xxmaj to xxunk the actors ' return to their day jobs waiting tables , none were required to change their xxunk at all . xxmaj the variety of hair included xxunk , xxunk , xxunk cuts and a mullet and at least served to xxunk from the dialog . xxmaj to prove it was a multi - national cast , all were encouraged to xxunk whatever accent they chose . \n",
       " \n",
       "  - xxmaj as is typical with this type of movie ( at least since xxmaj mad xxmaj max ) , leather xxunk was a xxunk . xxmaj in this case it was odd - shaped , ill - fitting and xxunk - new . \n",
       " \n",
       "  - xxmaj the female love interest , xxmaj ingrid , played by xxmaj xxunk xxmaj peters , followed a long - standing tradition of xxunk who should be watched with the xxunk turned completely down . \n",
       " \n",
       "  - xxmaj the xxunk focus of the movie was a repeating , xxunk xxunk with exploding xxunk . xxmaj it never needed to be loaded and even had a xxunk when fired . xxmaj it managed to xxunk the laws of physics , the integrity of the original legend , historical fact and plot suspense all by itself . \n",
       " \n",
       "  - xxmaj xxunk 's palace , xxmaj xxunk , rather than being a xxmaj xxunk long hall , apparently was designed and constructed by xxunk who xxunk with xxmaj xxunk . \n",
       " \n",
       "  - xxmaj xxunk xxunk at the xxmaj danes ' xxunk in a two - xxunk xxunk - xxunk ship that originally was part of a set , the other two being the xxmaj santa xxmaj maria and the xxmaj xxunk . \n",
       " \n",
       "  - xxmaj prince xxmaj xxunk observed xxmaj xxunk 's ship 's approach using a telescope . xxmaj before you could xxunk from that xxunk innovation , you got to see the ship from his point of view . xxmaj judging from the angle , the prince was in an xxunk of some sort . \n",
       " \n",
       "  - xxmaj fun fact 1 : xxmaj in xxmaj xxunk , fire ( as from a fireplace ) creates light without heat . xxmaj this explains why you could see the actors ' breath whether xxunk or out . \n",
       " \n",
       "  - xxmaj fun fact 2 : xxmaj dark xxmaj age dancing in xxmaj xxunk looks like slow dances i went to in the xxunk grade . \n",
       " \n",
       "  - xxmaj fun fact 3 : xxmaj you , too , can make a xxunk with a xxunk - release air - burst explosive . xxmaj but , do n't expect it to actually harm anything . xxmaj incidentally , xxmaj xxunk was apparently a veteran of xxmaj world xxmaj war xxup ii , yelling \" xxmaj xxunk ! \" to xxunk any remaining suspension of disbelief . \n",
       " \n",
       "  - xxmaj xxunk was so upset and always in a xxunk because as a completely xxup cgi creation he could n't leave xxunk . xxmaj even in snow . \n",
       " \n",
       "  - xxmaj xxunk 's mom ( \" xxmaj xxunk \" ) was in a foul mood because she was a single mother and junior had n't xxunk her wings . xxmaj xxunk gene , i suppose . xxmaj by the way , we can now make an educated guess that xxmaj xxunk 's pop was probably xxmaj xxunk xxmaj thing . \n",
       " \n",
       "  - xxmaj xxunk and mom chose to randomly kill , fly away with or drag away their prey based only on a close reading of the next few xxunk of the script . \n",
       " \n",
       "  - xxmaj fun medical fact : xxmaj being xxunk by a xxunk beast hard enough to be thrown fifty feet against stone causes slight facial xxunk that do n't bleed much . \n",
       " \n",
       "  - xxmaj the sword of legend xxmaj xxunk used to xxunk the xxmaj xxunk was as long as he was tall and would have contained enough steel to put a second deck on the xxmaj golden xxmaj xxunk xxmaj bridge . xxmaj luckily the xxunk xxunk any concerns over its weight . \n",
       " \n",
       "  - xxmaj best line of the movie : xxmaj prince xxmaj xxunk had just been xxunk by xxmaj xxunk and spit a xxunk of blood xxunk six feet . xxmaj princess xxmaj ingrid xxunk him xxunk and said , \" xxmaj you 're going to be okay , my prince . \" xxmaj so much for that job at the xxunk clinic . \n",
       " \n",
       "  i feel better now .,xxbos ... that seem to be xxunk people into seeing qualities in this film that are just not there . \n",
       " \n",
       "  xxmaj near xxmaj dark covered the same territory but with much more class , and action . \n",
       " \n",
       "  why the script kept their ' big secret ' so long was a total mystery to me - i guessed it at the breakfast scene at the start of the film . xxmaj by the time it was revealed to the viewer it was just a case of ' big deal , tell me something i do n't know . ' \n",
       " \n",
       "  i found this to be pointless movie that may have xxunk the genre conventions , unfortunately those conventions are that horror films are tense and packed with genuine sense of horror . xxmaj this was woeful,xxbos i was not expecting much going in to this , but still came away disappointed . xxmaj this was my least favorite xxmaj xxunk production i have seen . i thought it was supposed to be a comedy , but i only xxunk at 3 or 4 jokes . xxmaj is it really a funny gag to see a fat guy eating donuts and falling down over and over ? xxmaj what was up with the xxunk in xxmaj heaven scene ? xxmaj fred xxmaj xxunk has been hilarious with some of his xxmaj christopher xxmaj guest xxunk , but this did not work . xxmaj they must have spent all the budget on getting \" known \" actors to appear in this because there was no lighting budget . xxmaj it looked like it was filmed with a video camera and most scenes were very dark . xxmaj does it really take that much film to show someone actually shoot and make a xxunk , as opposed to cutting away and editing a xxunk xxunk through a xxunk ? i try not to be too critical of low budget comedies , but if you want to see something funny go to a real xxmaj church basketball game instead of this movie .\n",
       "y: CategoryList\n",
       "negative,positive,negative,negative,negative\n",
       "Path: /home/sergii/.fastai/data/imdb_sample;\n",
       "\n",
       "Test: None"
      ]
     },
     "execution_count": 7,
     "metadata": {},
     "output_type": "execute_result"
    }
   ],
   "source": [
    "data"
   ]
  },
  {
   "cell_type": "code",
   "execution_count": 5,
   "metadata": {},
   "outputs": [],
   "source": [
    "learn = text_classifier_learner(data, AWD_LSTM, drop_mult=0.5,pretrained=False)"
   ]
  },
  {
   "cell_type": "code",
   "execution_count": 8,
   "metadata": {},
   "outputs": [
    {
     "data": {
      "text/plain": [
       "<bound method Module.parameters of SequentialRNN(\n",
       "  (0): MultiBatchEncoder(\n",
       "    (module): AWD_LSTM(\n",
       "      (encoder): Embedding(8962, 400, padding_idx=1)\n",
       "      (encoder_dp): EmbeddingDropout(\n",
       "        (emb): Embedding(8962, 400, padding_idx=1)\n",
       "      )\n",
       "      (rnns): ModuleList(\n",
       "        (0): WeightDropout(\n",
       "          (module): LSTM(400, 1150, batch_first=True)\n",
       "        )\n",
       "        (1): WeightDropout(\n",
       "          (module): LSTM(1150, 1150, batch_first=True)\n",
       "        )\n",
       "        (2): WeightDropout(\n",
       "          (module): LSTM(1150, 400, batch_first=True)\n",
       "        )\n",
       "      )\n",
       "      (input_dp): RNNDropout()\n",
       "      (hidden_dps): ModuleList(\n",
       "        (0): RNNDropout()\n",
       "        (1): RNNDropout()\n",
       "        (2): RNNDropout()\n",
       "      )\n",
       "    )\n",
       "  )\n",
       "  (1): PoolingLinearClassifier(\n",
       "    (layers): Sequential(\n",
       "      (0): BatchNorm1d(1200, eps=1e-05, momentum=0.1, affine=True, track_running_stats=True)\n",
       "      (1): Dropout(p=0.2)\n",
       "      (2): Linear(in_features=1200, out_features=50, bias=True)\n",
       "      (3): ReLU(inplace)\n",
       "      (4): BatchNorm1d(50, eps=1e-05, momentum=0.1, affine=True, track_running_stats=True)\n",
       "      (5): Dropout(p=0.1)\n",
       "      (6): Linear(in_features=50, out_features=2, bias=True)\n",
       "    )\n",
       "  )\n",
       ")>"
      ]
     },
     "execution_count": 8,
     "metadata": {},
     "output_type": "execute_result"
    }
   ],
   "source": [
    "learn.model.parameters"
   ]
  },
  {
   "cell_type": "code",
   "execution_count": null,
   "metadata": {},
   "outputs": [],
   "source": []
  }
 ],
 "metadata": {
  "kernelspec": {
   "display_name": "Python 3",
   "language": "python",
   "name": "python3"
  },
  "language_info": {
   "codemirror_mode": {
    "name": "ipython",
    "version": 3
   },
   "file_extension": ".py",
   "mimetype": "text/x-python",
   "name": "python",
   "nbconvert_exporter": "python",
   "pygments_lexer": "ipython3",
   "version": "3.7.1"
  }
 },
 "nbformat": 4,
 "nbformat_minor": 2
}
